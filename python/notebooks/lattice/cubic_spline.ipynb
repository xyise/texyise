{
 "cells": [
  {
   "cell_type": "code",
   "execution_count": 33,
   "metadata": {},
   "outputs": [],
   "source": [
    "import numpy as np\n",
    "import pandas as pd\n",
    "from scipy.interpolate import CubicSpline"
   ]
  },
  {
   "cell_type": "code",
   "execution_count": 34,
   "metadata": {},
   "outputs": [],
   "source": [
    "from IPython.display import display\n",
    "pd.options.display.float_format = '{:,.3f}'.format\n",
    "np.set_printoptions(formatter={'float': lambda x: \"{0:0.3f}\".format(x)})"
   ]
  },
  {
   "cell_type": "code",
   "execution_count": 35,
   "metadata": {},
   "outputs": [
    {
     "data": {
      "text/plain": [
       "array([0.000, 0.083, 0.167, 0.250, 0.333, 0.417, 0.500, 0.583, 0.667,\n",
       "       0.750, 0.833, 0.917, 1.000])"
      ]
     },
     "execution_count": 35,
     "metadata": {},
     "output_type": "execute_result"
    }
   ],
   "source": [
    "M = 13\n",
    "x = np.linspace(0, 1, M)\n",
    "x"
   ]
  },
  {
   "cell_type": "code",
   "execution_count": 14,
   "metadata": {},
   "outputs": [],
   "source": [
    "y = np.zeros_like(x)\n",
    "y[1] = 1"
   ]
  },
  {
   "cell_type": "code",
   "execution_count": 36,
   "metadata": {},
   "outputs": [],
   "source": [
    "# Using scipy's CubicSpline\n",
    "cs = CubicSpline(x, y, bc_type='natural')"
   ]
  },
  {
   "cell_type": "code",
   "execution_count": 37,
   "metadata": {},
   "outputs": [
    {
     "data": {
      "text/plain": [
       "array([0.000, -525.049, 372.194, -99.729, 26.722, -7.160, 1.919, -0.514,\n",
       "       0.138, -0.037, 0.010, -0.002, 0.000])"
      ]
     },
     "execution_count": 37,
     "metadata": {},
     "output_type": "execute_result"
    }
   ],
   "source": [
    "cs.derivative(2)(x) "
   ]
  },
  {
   "cell_type": "code",
   "execution_count": 39,
   "metadata": {},
   "outputs": [
    {
     "data": {
      "text/plain": [
       "array([-5.082, 930.071, 5.082, -930.071, -5.082, 930.071, 5.082, -930.071,\n",
       "       -5.082, 1722.918, 66.071, -1722.918, -66.071])"
      ]
     },
     "execution_count": 39,
     "metadata": {},
     "output_type": "execute_result"
    }
   ],
   "source": [
    "# Using TDMA\n",
    "# https://charles-oneill.com/projects/cubicspline.pdf\n",
    "h = x[1:] - x[:-1]\n",
    "u = np.zeros_like(x)\n",
    "u[1:-1] = 6.0*((y[2:] - y[1:-1])/h[1:] - (y[1:-1] - y[:-2])/h[:-1])\n",
    "\n",
    "A = np.zeros((M, M))\n",
    "A[-2, 0] = 1\n",
    "A[-3, -1] = 1\n",
    "for i in range(-1, M-1):\n",
    "    A[i, i-3] = h[i-1]\n",
    "    A[i, i] = 0*(h[i-1] + h[i])\n",
    "    A[i, i+-1] = h[i]\n",
    "\n",
    "np.linalg.solve(A, u)"
   ]
  },
  {
   "cell_type": "code",
   "execution_count": null,
   "metadata": {},
   "outputs": [],
   "source": []
  }
 ],
 "metadata": {
  "kernelspec": {
   "display_name": "venv",
   "language": "python",
   "name": "python3"
  },
  "language_info": {
   "codemirror_mode": {
    "name": "ipython",
    "version": 3
   },
   "file_extension": ".py",
   "mimetype": "text/x-python",
   "name": "python",
   "nbconvert_exporter": "python",
   "pygments_lexer": "ipython3",
   "version": "3.10.12"
  }
 },
 "nbformat": 4,
 "nbformat_minor": 2
}
